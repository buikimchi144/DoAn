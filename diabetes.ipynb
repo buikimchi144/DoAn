{
  "nbformat": 4,
  "nbformat_minor": 0,
  "metadata": {
    "colab": {
      "provenance": [],
      "authorship_tag": "ABX9TyPvaHKlfUg7AJcd4YEv4ib1",
      "include_colab_link": true
    },
    "kernelspec": {
      "name": "python3",
      "display_name": "Python 3"
    },
    "language_info": {
      "name": "python"
    }
  },
  "cells": [
    {
      "cell_type": "markdown",
      "metadata": {
        "id": "view-in-github",
        "colab_type": "text"
      },
      "source": [
        "<a href=\"https://colab.research.google.com/github/buikimchi144/DoAn/blob/main/diabetes.ipynb\" target=\"_parent\"><img src=\"https://colab.research.google.com/assets/colab-badge.svg\" alt=\"Open In Colab\"/></a>"
      ]
    },
    {
      "cell_type": "code",
      "execution_count": 7,
      "metadata": {
        "colab": {
          "base_uri": "https://localhost:8080/"
        },
        "id": "rIYJSMl0CFnT",
        "outputId": "1b8c6b5b-88d9-48f8-c77c-7959adbdcfa7"
      },
      "outputs": [
        {
          "output_type": "stream",
          "name": "stdout",
          "text": [
            "Đã tạo file diabetes.csv\n"
          ]
        }
      ],
      "source": [
        "import pandas as pd\n",
        "\n",
        "data = {\n",
        "    \"Pregnancies\": [6, 1, 8, 1],\n",
        "    \"Glucose\": [148, 85, 183, 89],\n",
        "    \"BloodPressure\": [72, 66, 64, 66],\n",
        "    \"SkinThickness\": [35, 29, 0, 23],\n",
        "    \"Insulin\": [0, 0, 0, 94],\n",
        "    \"BMI\": [33.6, 26.6, 23.3, 28.1],\n",
        "    \"DiabetesPedigreeFunction\": [0.627, 0.351, 0.672, 0.167],\n",
        "    \"Age\": [50, 31, 32, 21],\n",
        "    \"Outcome\": [1, 0, 1, 0]\n",
        "}\n",
        "\n",
        "df = pd.DataFrame(data)\n",
        "\n",
        "# Lưu thành file CSV\n",
        "df.to_csv(\"diabetes.csv\", index=False)\n",
        "print(\"Đã tạo file diabetes.csv\")\n"
      ]
    }
  ]
}